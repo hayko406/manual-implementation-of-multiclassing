{
 "cells": [
  {
   "cell_type": "code",
   "execution_count": 1,
   "id": "a5a2b107",
   "metadata": {},
   "outputs": [],
   "source": [
    "import numpy as np\n",
    "import pandas as pd\n",
    "import matplotlib.pyplot as plt"
   ]
  },
  {
   "cell_type": "code",
   "execution_count": 2,
   "id": "327578c6",
   "metadata": {},
   "outputs": [],
   "source": [
    "import random"
   ]
  },
  {
   "cell_type": "code",
   "execution_count": 3,
   "id": "cd23af38",
   "metadata": {},
   "outputs": [],
   "source": [
    "df = pd.read_csv('digit recognizer\\\\train.csv')"
   ]
  },
  {
   "cell_type": "code",
   "execution_count": 4,
   "id": "6b28c120",
   "metadata": {},
   "outputs": [],
   "source": [
    "X_train = df.drop('label', axis = 1)"
   ]
  },
  {
   "cell_type": "code",
   "execution_count": 5,
   "id": "187b0ea1",
   "metadata": {},
   "outputs": [],
   "source": [
    "Y_train = df['label']"
   ]
  },
  {
   "cell_type": "code",
   "execution_count": 6,
   "id": "c42d2767",
   "metadata": {},
   "outputs": [],
   "source": [
    "X_train = X_train[:2000]\n",
    "Y_train = Y_train[:2000]\n",
    "\n",
    "# задаем переменные для обучения модели"
   ]
  },
  {
   "cell_type": "code",
   "execution_count": 7,
   "id": "e292e4c2",
   "metadata": {
    "scrolled": true
   },
   "outputs": [],
   "source": [
    "X_train = X_train.values\n",
    "Y_train = Y_train.values\n",
    "X_train = X_train.T\n",
    "\n",
    "# переводим их в матричный вид"
   ]
  },
  {
   "cell_type": "code",
   "execution_count": 8,
   "id": "a09033a9",
   "metadata": {},
   "outputs": [],
   "source": [
    "# перевод y в one encoding\n",
    "n_Y_train = 10\n",
    "Y_train = np.eye(n_Y_train)[Y_train]"
   ]
  },
  {
   "cell_type": "code",
   "execution_count": 9,
   "id": "e13ac97d",
   "metadata": {},
   "outputs": [],
   "source": [
    "Y_train = Y_train.T"
   ]
  },
  {
   "cell_type": "code",
   "execution_count": 10,
   "id": "51b897d7",
   "metadata": {},
   "outputs": [
    {
     "data": {
      "text/plain": [
       "(10, 2000)"
      ]
     },
     "execution_count": 10,
     "metadata": {},
     "output_type": "execute_result"
    }
   ],
   "source": [
    "Y_train.shape"
   ]
  },
  {
   "cell_type": "code",
   "execution_count": 11,
   "id": "deb251e5",
   "metadata": {},
   "outputs": [
    {
     "data": {
      "text/plain": [
       "(784, 2000)"
      ]
     },
     "execution_count": 11,
     "metadata": {},
     "output_type": "execute_result"
    }
   ],
   "source": [
    "X_train.shape"
   ]
  },
  {
   "cell_type": "code",
   "execution_count": 12,
   "id": "34f73787",
   "metadata": {},
   "outputs": [],
   "source": [
    "def relu(x): # функция активации релу\n",
    "    return np.maximum(x, 0)"
   ]
  },
  {
   "cell_type": "code",
   "execution_count": 13,
   "id": "6e26e96e",
   "metadata": {},
   "outputs": [],
   "source": [
    "# def tanh(x):\n",
    "#     return np.tanh(x)\n",
    "\n",
    "# можно использовать также tanh"
   ]
  },
  {
   "cell_type": "code",
   "execution_count": 14,
   "id": "afa67006",
   "metadata": {},
   "outputs": [],
   "source": [
    "def softmax(x): # софтмакс для расчета вероятностей\n",
    "    out = np.exp(x)\n",
    "    return out / np.sum(out, axis = 0)"
   ]
  },
  {
   "cell_type": "code",
   "execution_count": 15,
   "id": "9a58b607",
   "metadata": {},
   "outputs": [],
   "source": [
    "def dev_relu(x): # производная релу\n",
    "    return np.array(x > 0, dtype = np.float32)"
   ]
  },
  {
   "cell_type": "code",
   "execution_count": 16,
   "id": "ef9587eb",
   "metadata": {},
   "outputs": [],
   "source": [
    "# def derivative_tanh(x):\n",
    "#     return (1 - np.power(np.tanh(x), 2))"
   ]
  },
  {
   "cell_type": "code",
   "execution_count": 17,
   "id": "bb828d6a",
   "metadata": {},
   "outputs": [],
   "source": [
    "def initialize(n_x, n_h, n_y): # создаем рандомные матрицы w и b, чтобы от них отталкиваться в сторону антиградиента\n",
    "\n",
    "    W1 = np.random.randn(n_h, n_x) * 0.0001 # умножаем на маленькое число в целях избежания хаоса на первых итерациях поиска минимума\n",
    "    b1 = np.zeros((n_h, 1))\n",
    "\n",
    "    W2 = np.random.randn(n_y, n_h) * 0.0001\n",
    "    b2 = np.zeros((n_y, 1))\n",
    "    \n",
    "    parameters = {'W1': W1,\n",
    "                 'b1': b1,\n",
    "                 'W2': W2,\n",
    "                 'b2': b2}\n",
    "    return parameters"
   ]
  },
  {
   "cell_type": "markdown",
   "id": "a3903af3",
   "metadata": {},
   "source": [
    "Forward prop"
   ]
  },
  {
   "cell_type": "code",
   "execution_count": 18,
   "id": "cde18736",
   "metadata": {},
   "outputs": [],
   "source": [
    "def forward(x, parameters): \n",
    "    W1 = parameters['W1']\n",
    "    b1 = parameters['b1']\n",
    "    W2 = parameters['W2']\n",
    "    b2 = parameters['b2']\n",
    "    \n",
    "    z1 = np.dot(W1, x) + b1\n",
    "    a1 = relu(z1)\n",
    "    \n",
    "    z2 = np.dot(W2, a1) + b2\n",
    "    a2 = softmax(z2)\n",
    "    \n",
    "    forward_cache = {'z1': z1,\n",
    "                    'a1': a1,\n",
    "                    'z2': z2,\n",
    "                    'a2': a2,\n",
    "                    }\n",
    "    return forward_cache\n",
    "\n",
    "# это функция прямого распространения ошибки. В нашей нейронке будет 2 слоя\n",
    "# на первом слое имеем матричное умножение весов W1 на входные значения (яркость пикселей) + смещение, а потом применяем релу\n",
    "# на втором слое матрицу W2 умножаем на полученные значения и прибавляем b2\n",
    "# полседнее- пропускаем через softmax"
   ]
  },
  {
   "cell_type": "markdown",
   "id": "b20d0510",
   "metadata": {},
   "source": [
    "Cost"
   ]
  },
  {
   "cell_type": "code",
   "execution_count": 19,
   "id": "5ebb1f5b",
   "metadata": {},
   "outputs": [],
   "source": [
    "def error(a2, y): # функция ошибки\n",
    "    m = y.shape[1]\n",
    "    \n",
    "    cost = (-1/m) * np.sum(y * np.log(a2))\n",
    "    return cost                      "
   ]
  },
  {
   "cell_type": "markdown",
   "id": "15fad014",
   "metadata": {},
   "source": [
    "Backward"
   ]
  },
  {
   "cell_type": "code",
   "execution_count": 53,
   "id": "fc6104bd",
   "metadata": {},
   "outputs": [],
   "source": [
    "def backward(x, y, parameters, forward_cache): # обратное распространение\n",
    "     \n",
    "    W1 = parameters['W1']\n",
    "    b1 = parameters['b1']\n",
    "    W2 = parameters['W2']\n",
    "    b2 = parameters['b2']\n",
    "    \n",
    "    \n",
    "    a1 = forward_cache['a1']\n",
    "    a2 = forward_cache['a2']\n",
    "    \n",
    "    m = x.shape[1]\n",
    "    \n",
    "    dz2 = (a2 - y) # считаем производные\n",
    "    dw2 = (1 / m) * np.dot(dz2, a1.T)\n",
    "    db2 = (1 / m) * np.sum(dz2, axis = 1, keepdims=True)\n",
    "    \n",
    "    \n",
    "    dz1 = (1/m)*np.dot(W2.T, dz2)*dev_relu(a1) # вот тут интересный момент. правильнee dev_relu(a1), а не dev_relu(z1)\n",
    "    dw1 = (1/m)*np.dot(dz1, x.T)\n",
    "    db1 = (1/m)*np.sum(dz1, axis=1, keepdims=True)\n",
    "    \n",
    "    gradients = {'dw1': dw1,\n",
    "                'db1': db1,\n",
    "                'dw2': dw2,\n",
    "                'db2': db2} # запекаем все в словарь\n",
    "    return gradients"
   ]
  },
  {
   "cell_type": "markdown",
   "id": "74494db0",
   "metadata": {},
   "source": [
    "Update"
   ]
  },
  {
   "cell_type": "code",
   "execution_count": 21,
   "id": "ec31641f",
   "metadata": {},
   "outputs": [],
   "source": [
    "def update(parameters, gradients, lr): # шагаем в сторону антиградиента\n",
    "    W1 = parameters['W1']\n",
    "    b1 = parameters['b1']\n",
    "    W2 = parameters['W2']\n",
    "    b2 = parameters['b2']\n",
    "    \n",
    "    dw1 = gradients['dw1']\n",
    "    db1 = gradients['db1']\n",
    "    dw2 = gradients['dw2']\n",
    "    db2 = gradients['db2']\n",
    "    \n",
    "    \n",
    "    W1 = W1 - lr * dw1\n",
    "    b1 = b1 - lr * db1\n",
    "    W2 = W2 - lr * dw2\n",
    "    b2 = b2 - lr * db2\n",
    "    \n",
    "    parameters = {\n",
    "        'W1': W1,\n",
    "        'b1': b1,\n",
    "        'W2': W2,\n",
    "        'b2': b2\n",
    "    }\n",
    "    \n",
    "    return parameters"
   ]
  },
  {
   "cell_type": "code",
   "execution_count": 22,
   "id": "e1c22ee5",
   "metadata": {},
   "outputs": [],
   "source": [
    "def model(x, y, n_h, lr, iterations): # функция, которая вызывает все функции\n",
    "    n_x = x.shape[0]\n",
    "    n_y = y.shape[0]\n",
    "    \n",
    "    cost_l = []\n",
    "    \n",
    "    parameters = initialize(n_x, n_h, n_y)\n",
    "    \n",
    "    for i in range(iterations):\n",
    "        forward_cache = forward(x, parameters)\n",
    "        \n",
    "        cost = error(forward_cache['a2'], y)\n",
    "        \n",
    "        gradients = backward(x, y, parameters, forward_cache)\n",
    "        \n",
    "        parameters = update(parameters, gradients, lr)\n",
    "        \n",
    "        cost_l.append(cost)\n",
    "        \n",
    "        if (i%(iterations/10)) == 0:\n",
    "            print(cost)\n",
    "    return parameters, cost_l"
   ]
  },
  {
   "cell_type": "code",
   "execution_count": 54,
   "id": "139ba2fd",
   "metadata": {},
   "outputs": [
    {
     "name": "stdout",
     "output_type": "stream",
     "text": [
      "2.3025402122546956\n",
      "1.0824763342978028\n",
      "0.5630141821262653\n",
      "0.41917360023993033\n",
      "0.3468548558526878\n",
      "0.30035791546999635\n",
      "0.26605595685640165\n",
      "0.23868930107376946\n",
      "0.21576998181765283\n",
      "0.1959989930304048\n"
     ]
    }
   ],
   "source": [
    "iterations = 200\n",
    "n_h = 2000\n",
    "lr = 0.05 # вбили количесвто итераций, количество нейронок скрытого слоя, длину шага. И вызвали функцию модель\n",
    "Parameters, Cost_list = model(X_train, Y_train, n_h=n_h, lr = lr, iterations=iterations)"
   ]
  },
  {
   "cell_type": "markdown",
   "id": "fb76c980",
   "metadata": {},
   "source": [
    "как видим, функция потерь успешно стремится вниз"
   ]
  },
  {
   "cell_type": "code",
   "execution_count": 25,
   "id": "3c5a2bc5",
   "metadata": {},
   "outputs": [
    {
     "data": {
      "image/png": "[encoded data removed]",
      "text/plain": [
       "<Figure size 640x480 with 1 Axes>"
      ]
     },
     "metadata": {},
     "output_type": "display_data"
    }
   ],
   "source": [
    "axis = np.arange(0, iterations)\n",
    "plt.plot(axis, Cost_list); "
   ]
  },
  {
   "cell_type": "code",
   "execution_count": 24,
   "id": "f8d48261",
   "metadata": {},
   "outputs": [],
   "source": [
    "X_test = df.drop('label', axis = 1)\n",
    "Y_test = df['label'] # тестовые данные для проверки модели"
   ]
  },
  {
   "cell_type": "code",
   "execution_count": 25,
   "id": "775d43af",
   "metadata": {},
   "outputs": [],
   "source": [
    "X_test = X_test[4000:10000]\n",
    "Y_test = Y_test[4000:10000]"
   ]
  },
  {
   "cell_type": "code",
   "execution_count": 26,
   "id": "1743ad64",
   "metadata": {},
   "outputs": [],
   "source": [
    "X_test = X_test.values\n",
    "Y_test = Y_test.values\n",
    "X_test = X_test.T"
   ]
  },
  {
   "cell_type": "code",
   "execution_count": 27,
   "id": "ea02582b",
   "metadata": {},
   "outputs": [],
   "source": [
    "n_Y_test = 10\n",
    "Y_test = np.eye(n_Y_test)[Y_test]"
   ]
  },
  {
   "cell_type": "code",
   "execution_count": 28,
   "id": "bab20c10",
   "metadata": {},
   "outputs": [],
   "source": [
    "Y_test = Y_test.T"
   ]
  },
  {
   "cell_type": "code",
   "execution_count": 29,
   "id": "552fe96f",
   "metadata": {},
   "outputs": [],
   "source": [
    "def accuracy(inp, labels, parameters):\n",
    "    forward_cache = forward(inp, parameters)\n",
    "    a_out = forward_cache['a2']  \n",
    "    \n",
    "    a_out = np.argmax(a_out, 0) \n",
    "    \n",
    "    labels = np.argmax(labels, 0)\n",
    "    \n",
    "    acc = np.mean(a_out == labels)*100\n",
    "    \n",
    "    return acc"
   ]
  },
  {
   "cell_type": "code",
   "execution_count": 56,
   "id": "9366baac",
   "metadata": {},
   "outputs": [
    {
     "name": "stdout",
     "output_type": "stream",
     "text": [
      "Точность предсказаний 95.89999999999999 %\n"
     ]
    }
   ],
   "source": [
    "print('Точность предсказаний', accuracy(X_train, Y_train, Parameters),'%')"
   ]
  },
  {
   "cell_type": "code",
   "execution_count": 55,
   "id": "94ee729d",
   "metadata": {},
   "outputs": [
    {
     "name": "stdout",
     "output_type": "stream",
     "text": [
      "Точность предсказаний 89.56666666666668 %\n"
     ]
    }
   ],
   "source": [
    "print('Точность предсказаний', accuracy(X_test, Y_test, Parameters),'%')\n",
    "\n",
    "# как видим, результат получился солидным"
   ]
  },
  {
   "cell_type": "code",
   "execution_count": 34,
   "id": "5d77df18",
   "metadata": {},
   "outputs": [],
   "source": [
    "import cv2"
   ]
  },
  {
   "cell_type": "code",
   "execution_count": 52,
   "id": "6824f54e",
   "metadata": {},
   "outputs": [
    {
     "data": {
      "image/png": "[encoded data removed]",
      "text/plain": [
       "<Figure size 640x480 with 1 Axes>"
      ]
     },
     "metadata": {},
     "output_type": "display_data"
    },
    {
     "name": "stdout",
     "output_type": "stream",
     "text": [
      "Нейронка Гайка считает, что это : 3\n"
     ]
    }
   ],
   "source": [
    "idx = int(random.randrange(0,X_test.shape[1]))\n",
    "plt.imshow(X_test[:, idx].reshape((28,28)), cmap = 'gray')\n",
    "plt.show()\n",
    "\n",
    "cache = forward(X_test[:, idx].reshape(X_test[:, idx].shape[0], 1), Parameters)\n",
    "a_pred = cache['a2']  \n",
    "a_pred = np.argmax(a_pred, 0)\n",
    "\n",
    "print(\"Нейронка Гайка считает, что это :\", a_pred[0])"
   ]
  }
 ],
 "metadata": {
  "kernelspec": {
   "display_name": "Python 3 (ipykernel)",
   "language": "python",
   "name": "python3"
  },
  "language_info": {
   "codemirror_mode": {
    "name": "ipython",
    "version": 3
   },
   "file_extension": ".py",
   "mimetype": "text/x-python",
   "name": "python",
   "nbconvert_exporter": "python",
   "pygments_lexer": "ipython3",
   "version": "3.9.13"
  }
 },
 "nbformat": 4,
 "nbformat_minor": 5
}
